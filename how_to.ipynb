{
 "cells": [
  {
   "cell_type": "markdown",
   "metadata": {},
   "source": [
    "# how to download images from google\n",
    "1. go -> images.google.com\n",
    "2. search for pictures\n",
    "3. ctrl+shift+i paste ->\n",
    "\n",
    "urls=Array.from(document.querySelectorAll('.rg_i')).map(el=> el.hasAttribute('data-src')?el.getAttribute('data-src'):el.getAttribute('data-iurl')); window.open('data:text/csv;charset=utf-8,' + escape(urls.join('\\n')));\n",
    "\n",
    "4. save as file = 'urls_hare.csv'\n",
    "5. put the file to -> path = Path('data/rabbit-hare')"
   ]
  },
  {
   "cell_type": "markdown",
   "metadata": {},
   "source": [
    "# how to download from .csv"
   ]
  },
  {
   "cell_type": "raw",
   "metadata": {},
   "source": [
    "folder = 'seal'\n",
    "file = 'urls_seal.csv'\n",
    "dest = path/folder\n",
    "dest.mkdir(parents=True, exist_ok=True)\n",
    "download_images(path/file, dest, max_pics=2000)"
   ]
  },
  {
   "cell_type": "markdown",
   "metadata": {},
   "source": [
    "# how to verify images"
   ]
  },
  {
   "cell_type": "raw",
   "metadata": {},
   "source": [
    "for c in ['cool', 'ugly']:\n",
    "    verify_images(path/c, delete=True)"
   ]
  },
  {
   "cell_type": "markdown",
   "metadata": {},
   "source": [
    "# data from csv"
   ]
  },
  {
   "cell_type": "raw",
   "metadata": {},
   "source": [
    "#7. data from csv\n",
    "#.    Image from csv\n",
    "#.    data = path # main path folder\n",
    "#.    size        # size of picture\n",
    "#.    ds_tfms     # transformations\n",
    "#.    bs          # batchsize\n",
    "#.    test        # path of test folder\n",
    "#.    normalize   # (image) "
   ]
  },
  {
   "cell_type": "markdown",
   "metadata": {},
   "source": [
    "# data from folder"
   ]
  },
  {
   "cell_type": "raw",
   "metadata": {},
   "source": [
    "data = ImageDataBunch.from_folder(path,\n",
    "                                 train='.',\n",
    "                                 valid_pct=0.2,\n",
    "                                 seed=42,\n",
    "                                 ds_tfms=get_transforms(),\n",
    "                                 size=224,\n",
    "                                 bs=16,\n",
    "                                 num_workers=4).normalize(imagenet_stats)\n",
    "#7. data Image from folder\n",
    "#.    path        # main path folder\n",
    "#.    train='.'   \n",
    "#.    valid_pct\n",
    "#.    seed\n",
    "#.    ds_tfms     # transformations\n",
    "#.    size        \n",
    "#.    num_workers \n",
    "#.    normalize   # (image) "
   ]
  },
  {
   "cell_type": "markdown",
   "metadata": {},
   "source": [
    "# **Interpretation**"
   ]
  },
  {
   "cell_type": "raw",
   "metadata": {},
   "source": [
    "#x. interp.plot_top_losses \\ confusion matrix \\ most_confused \\ learn.show_results\n",
    "#    * interp = Classif... .from\n",
    "#    * interp.plot_top\n",
    "#    * plot_confusion\n",
    "#    * most_conf"
   ]
  },
  {
   "cell_type": "code",
   "execution_count": null,
   "metadata": {},
   "outputs": [],
   "source": []
  }
 ],
 "metadata": {
  "kernelspec": {
   "display_name": "Python 3",
   "language": "python",
   "name": "python3"
  },
  "language_info": {
   "codemirror_mode": {
    "name": "ipython",
    "version": 3
   },
   "file_extension": ".py",
   "mimetype": "text/x-python",
   "name": "python",
   "nbconvert_exporter": "python",
   "pygments_lexer": "ipython3",
   "version": "3.7.6"
  }
 },
 "nbformat": 4,
 "nbformat_minor": 4
}
